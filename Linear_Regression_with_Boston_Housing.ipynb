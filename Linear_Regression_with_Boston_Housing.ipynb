{
  "nbformat": 4,
  "nbformat_minor": 0,
  "metadata": {
    "colab": {
      "private_outputs": true,
      "provenance": []
    },
    "kernelspec": {
      "name": "python3",
      "display_name": "Python 3"
    },
    "language_info": {
      "name": "python"
    }
  },
  "cells": [
    {
      "cell_type": "markdown",
      "source": [
        "This is a simple implementation of Linear Regression on Boston Housing"
      ],
      "metadata": {
        "id": "V3CP4SOLf0ES"
      }
    },
    {
      "cell_type": "code",
      "source": [
        "import pandas as pd\n",
        "import numpy as np\n",
        "import matplotlib.pyplot as plt\n",
        "import seaborn as sns\n",
        "import requests\n",
        "from sklearn.linear_model import LinearRegression\n",
        "from sklearn.model_selection import train_test_split\n",
        "from sklearn.metrics import mean_squared_error, r2_score\n",
        "\n",
        "# Step 1: Fetch the dataset as plain text\n",
        "url = \"http://lib.stat.cmu.edu/datasets/boston\"\n",
        "response = requests.get(url)\n",
        "data = response.text\n",
        "\n",
        "# Step 2: Split the data into lines\n",
        "lines = data.split(\"\\n\")\n",
        "\n",
        "# Step 3: Locate the data section (after metadata)\n",
        "# The data starts after line 22\n",
        "data_lines = lines[22:]\n",
        "\n",
        "# Step 4: Process the data\n",
        "# Data is split across two lines for each record\n",
        "data_array = []\n",
        "for i in range(0, len(data_lines) - 1, 2):  # Process in pairs of lines\n",
        "    if data_lines[i].strip() == \"\":  # Skip empty lines\n",
        "        continue\n",
        "    line1 = np.array(data_lines[i].split(), dtype=float)  # First part of the record\n",
        "    line2 = np.array(data_lines[i + 1].split(), dtype=float)  # Second part of the record\n",
        "    combined = np.hstack([line1, line2])  # Combine both parts into one record\n",
        "    data_array.append(combined)\n",
        "\n",
        "# Step 5: Convert to a DataFrame\n",
        "# Column names are known from the metadata\n",
        "columns = [\n",
        "    \"CRIM\", \"ZN\", \"INDUS\", \"CHAS\", \"NOX\", \"RM\", \"AGE\", \"DIS\",\n",
        "    \"RAD\", \"TAX\", \"PTRATIO\", \"B\", \"LSTAT\", \"MEDV\"\n",
        "]\n",
        "boston_df = pd.DataFrame(data_array, columns=columns)\n",
        "\n",
        "# Step 6: Display the DataFrame\n",
        "boston_df.head()"
      ],
      "metadata": {
        "id": "jM-2Yqbtf-7V"
      },
      "execution_count": null,
      "outputs": []
    },
    {
      "cell_type": "markdown",
      "source": [
        " <pre>\n",
        " CRIM     per capita crime rate by town\n",
        " ZN       proportion of residential land zoned for lots over 25,000 sq.ft.\n",
        " INDUS    proportion of non-retail business acres per town\n",
        " CHAS     Charles River dummy variable (= 1 if tract bounds river; 0 otherwise)\n",
        " NOX      nitric oxides concentration (parts per 10 million)\n",
        " RM       average number of rooms per dwelling\n",
        " AGE      proportion of owner-occupied units built prior to 1940\n",
        " DIS      weighted distances to five Boston employment centres\n",
        " RAD      index of accessibility to radial highways\n",
        " TAX      full-value property-tax rate per $10,000\n",
        " PTRATIO  pupil-teacher ratio by town\n",
        " B        1000(Bk - 0.63)^2 where Bk is the proportion of blacks by town\n",
        " LSTAT    % lower status of the population\n",
        " MEDV     Median value of owner-occupied homes in $1000's"
      ],
      "metadata": {
        "id": "5e_gQqiwT8WC"
      }
    },
    {
      "cell_type": "code",
      "source": [
        "# Checking the missing values\n",
        "print(boston_df.isnull().sum())"
      ],
      "metadata": {
        "id": "RiVAJ3yjZVyJ"
      },
      "execution_count": null,
      "outputs": []
    },
    {
      "cell_type": "code",
      "source": [
        "plt.figure(figsize=(10,10))\n",
        "sns.heatmap(boston_df.corr(), annot=True)\n",
        "plt.show()"
      ],
      "metadata": {
        "id": "SKfNWLQBbxit"
      },
      "execution_count": null,
      "outputs": []
    },
    {
      "cell_type": "code",
      "source": [
        "plt.scatter(boston_df['RM'], boston_df['MEDV'], color='blue')\n",
        "plt.xlabel('Average Number of Rooms per Dwelling (RM)')\n",
        "plt.ylabel('Median Value of Owner-occupied Homes (MEDV)')\n",
        "plt.title('Relationship between RM and MEDV')\n",
        "plt.show()"
      ],
      "metadata": {
        "id": "SmYeUQF3cldi"
      },
      "execution_count": null,
      "outputs": []
    },
    {
      "cell_type": "code",
      "source": [
        "plt.bar(boston_df['AGE'], boston_df['MEDV'], color='Green')\n",
        "plt.xlabel('Age of the Property')\n",
        "plt.ylabel('Median Value of Owner-occupied Homes (MEDV)')\n",
        "plt.title('Relationship between MEDV and Age')"
      ],
      "metadata": {
        "id": "vyCDO-T0dihF"
      },
      "execution_count": null,
      "outputs": []
    },
    {
      "cell_type": "code",
      "source": [
        "plt.bar(boston_df['INDUS'], boston_df['MEDV'], color='red')\n",
        "plt.xlabel('Proportion of Non-Retail Business Acres per Town (INDUS)')\n",
        "plt.ylabel('Median Value of Owner-occupied Homes (MEDV)')"
      ],
      "metadata": {
        "id": "RVwl-EQaehON"
      },
      "execution_count": null,
      "outputs": []
    },
    {
      "cell_type": "code",
      "source": [
        "plt.bar(boston_df['LSTAT'], boston_df['MEDV'], color='orange')\n",
        "plt.xlabel('Lower Status of the Population (%)')\n",
        "plt.ylabel('Median Value of Owner-occupied Homes (MEDV)')"
      ],
      "metadata": {
        "id": "pfi5Xfo0e2GC"
      },
      "execution_count": null,
      "outputs": []
    },
    {
      "cell_type": "code",
      "source": [
        "# Segregating into dependent and independent values\n",
        "x = boston_df.drop('MEDV', axis=1)\n",
        "y = boston_df['MEDV']"
      ],
      "metadata": {
        "id": "VllsojC8kOCT"
      },
      "execution_count": null,
      "outputs": []
    },
    {
      "cell_type": "code",
      "source": [
        "# splitting the data into train test split\n",
        "X_train, X_test, y_train, y_test = train_test_split(x, y, test_size=0.2, random_state=42)"
      ],
      "metadata": {
        "id": "6fv44XzITWpv"
      },
      "execution_count": null,
      "outputs": []
    },
    {
      "cell_type": "code",
      "source": [
        "# Creating the model\n",
        "model = LinearRegression()\n",
        "model.fit(X_train, y_train)"
      ],
      "metadata": {
        "id": "Zes4cGtEYEsm"
      },
      "execution_count": null,
      "outputs": []
    },
    {
      "cell_type": "code",
      "source": [
        "# Score of the model\n",
        "model.score(X_test, y_test)"
      ],
      "metadata": {
        "id": "GreTPAdHZDQ1"
      },
      "execution_count": null,
      "outputs": []
    },
    {
      "cell_type": "code",
      "source": [
        "# Mean Squared Error of the model\n",
        "mean_squared_error(y_test, model.predict(X_test))"
      ],
      "metadata": {
        "id": "X76uKTGTZF04"
      },
      "execution_count": null,
      "outputs": []
    },
    {
      "cell_type": "code",
      "source": [
        "# r2_score of the model\n",
        "r2_score(y_test, model.predict(X_test))"
      ],
      "metadata": {
        "id": "5LAHymKmZJZt"
      },
      "execution_count": null,
      "outputs": []
    },
    {
      "cell_type": "code",
      "source": [],
      "metadata": {
        "id": "mEOaaKAGbO5M"
      },
      "execution_count": null,
      "outputs": []
    },
    {
      "cell_type": "code",
      "source": [],
      "metadata": {
        "id": "hYzMeACuckeS"
      },
      "execution_count": null,
      "outputs": []
    }
  ]
}